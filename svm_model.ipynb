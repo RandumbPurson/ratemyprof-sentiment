{
 "cells": [
  {
   "cell_type": "code",
   "execution_count": 1,
   "id": "d733c345",
   "metadata": {},
   "outputs": [],
   "source": [
    "import pandas as pd\n",
    "# For train/test split using professor id \n",
    "from sklearn.model_selection import GroupShuffleSplit \n",
    "from sklearn.feature_extraction.text import CountVectorizer \n",
    "from sklearn.svm import SVC"
   ]
  },
  {
   "cell_type": "markdown",
   "id": "d0c7fb70",
   "metadata": {},
   "source": [
    "## Cleaning Data"
   ]
  },
  {
   "cell_type": "code",
   "execution_count": 2,
   "id": "e760c258",
   "metadata": {},
   "outputs": [
    {
     "data": {
      "text/html": [
       "<div>\n",
       "<style scoped>\n",
       "    .dataframe tbody tr th:only-of-type {\n",
       "        vertical-align: middle;\n",
       "    }\n",
       "\n",
       "    .dataframe tbody tr th {\n",
       "        vertical-align: top;\n",
       "    }\n",
       "\n",
       "    .dataframe thead th {\n",
       "        text-align: right;\n",
       "    }\n",
       "</style>\n",
       "<table border=\"1\" class=\"dataframe\">\n",
       "  <thead>\n",
       "    <tr style=\"text-align: right;\">\n",
       "      <th></th>\n",
       "      <th>prof_id</th>\n",
       "      <th>course</th>\n",
       "      <th>date</th>\n",
       "      <th>quality</th>\n",
       "      <th>difficulty</th>\n",
       "      <th>comments</th>\n",
       "      <th>thumbs_up</th>\n",
       "      <th>thumbs_down</th>\n",
       "    </tr>\n",
       "  </thead>\n",
       "  <tbody>\n",
       "    <tr>\n",
       "      <th>0</th>\n",
       "      <td>790</td>\n",
       "      <td>MTH132</td>\n",
       "      <td>Oct 9th, 2019</td>\n",
       "      <td>3.0</td>\n",
       "      <td>4.0</td>\n",
       "      <td>Prof. Sagan is a nice, caring man, but he is n...</td>\n",
       "      <td>0</td>\n",
       "      <td>0</td>\n",
       "    </tr>\n",
       "    <tr>\n",
       "      <th>1</th>\n",
       "      <td>790</td>\n",
       "      <td>MTH317H</td>\n",
       "      <td>Jan 3rd, 2014</td>\n",
       "      <td>5.0</td>\n",
       "      <td>3.0</td>\n",
       "      <td>AWESOME PROFESSOR!!!!!!!!!</td>\n",
       "      <td>0</td>\n",
       "      <td>0</td>\n",
       "    </tr>\n",
       "    <tr>\n",
       "      <th>2</th>\n",
       "      <td>790</td>\n",
       "      <td>MTH317H</td>\n",
       "      <td>Nov 5th, 2013</td>\n",
       "      <td>5.0</td>\n",
       "      <td>4.0</td>\n",
       "      <td>Professor Sagan is really good math teacher.  ...</td>\n",
       "      <td>0</td>\n",
       "      <td>0</td>\n",
       "    </tr>\n",
       "    <tr>\n",
       "      <th>3</th>\n",
       "      <td>790</td>\n",
       "      <td>MTH132</td>\n",
       "      <td>Jan 11th, 2009</td>\n",
       "      <td>5.0</td>\n",
       "      <td>2.0</td>\n",
       "      <td>Excellent professor that was very clear in tea...</td>\n",
       "      <td>0</td>\n",
       "      <td>0</td>\n",
       "    </tr>\n",
       "    <tr>\n",
       "      <th>4</th>\n",
       "      <td>790</td>\n",
       "      <td>MATH254H</td>\n",
       "      <td>Aug 10th, 2005</td>\n",
       "      <td>4.5</td>\n",
       "      <td>3.0</td>\n",
       "      <td>Awesome - made me want to become a Math major ...</td>\n",
       "      <td>0</td>\n",
       "      <td>0</td>\n",
       "    </tr>\n",
       "    <tr>\n",
       "      <th>...</th>\n",
       "      <td>...</td>\n",
       "      <td>...</td>\n",
       "      <td>...</td>\n",
       "      <td>...</td>\n",
       "      <td>...</td>\n",
       "      <td>...</td>\n",
       "      <td>...</td>\n",
       "      <td>...</td>\n",
       "    </tr>\n",
       "    <tr>\n",
       "      <th>13107</th>\n",
       "      <td>2650948</td>\n",
       "      <td>IAH211B</td>\n",
       "      <td>Apr 25th, 2022</td>\n",
       "      <td>1.0</td>\n",
       "      <td>5.0</td>\n",
       "      <td>Anning Jing is an absolute abomination of a pr...</td>\n",
       "      <td>0</td>\n",
       "      <td>0</td>\n",
       "    </tr>\n",
       "    <tr>\n",
       "      <th>13108</th>\n",
       "      <td>2650948</td>\n",
       "      <td>IAH211B</td>\n",
       "      <td>Apr 25th, 2022</td>\n",
       "      <td>1.0</td>\n",
       "      <td>5.0</td>\n",
       "      <td>Took IAH211B for university requirement credit...</td>\n",
       "      <td>0</td>\n",
       "      <td>0</td>\n",
       "    </tr>\n",
       "    <tr>\n",
       "      <th>13109</th>\n",
       "      <td>2650948</td>\n",
       "      <td>HA260</td>\n",
       "      <td>Feb 2nd, 2022</td>\n",
       "      <td>1.0</td>\n",
       "      <td>5.0</td>\n",
       "      <td>Extremely vague. Skips around a LOT. Messy sli...</td>\n",
       "      <td>0</td>\n",
       "      <td>0</td>\n",
       "    </tr>\n",
       "    <tr>\n",
       "      <th>13110</th>\n",
       "      <td>2650948</td>\n",
       "      <td>IAH211B</td>\n",
       "      <td>Apr 27th, 2021</td>\n",
       "      <td>1.0</td>\n",
       "      <td>5.0</td>\n",
       "      <td>This class has no reason for being harder than...</td>\n",
       "      <td>0</td>\n",
       "      <td>0</td>\n",
       "    </tr>\n",
       "    <tr>\n",
       "      <th>13111</th>\n",
       "      <td>2650948</td>\n",
       "      <td>IAH211B</td>\n",
       "      <td>Dec 9th, 2020</td>\n",
       "      <td>1.0</td>\n",
       "      <td>4.0</td>\n",
       "      <td>This class was absolutely horrid. You could no...</td>\n",
       "      <td>0</td>\n",
       "      <td>0</td>\n",
       "    </tr>\n",
       "  </tbody>\n",
       "</table>\n",
       "<p>13112 rows × 8 columns</p>\n",
       "</div>"
      ],
      "text/plain": [
       "       prof_id    course            date  quality  difficulty  \\\n",
       "0          790    MTH132   Oct 9th, 2019      3.0         4.0   \n",
       "1          790   MTH317H   Jan 3rd, 2014      5.0         3.0   \n",
       "2          790   MTH317H   Nov 5th, 2013      5.0         4.0   \n",
       "3          790    MTH132  Jan 11th, 2009      5.0         2.0   \n",
       "4          790  MATH254H  Aug 10th, 2005      4.5         3.0   \n",
       "...        ...       ...             ...      ...         ...   \n",
       "13107  2650948   IAH211B  Apr 25th, 2022      1.0         5.0   \n",
       "13108  2650948   IAH211B  Apr 25th, 2022      1.0         5.0   \n",
       "13109  2650948     HA260   Feb 2nd, 2022      1.0         5.0   \n",
       "13110  2650948   IAH211B  Apr 27th, 2021      1.0         5.0   \n",
       "13111  2650948   IAH211B   Dec 9th, 2020      1.0         4.0   \n",
       "\n",
       "                                                comments  thumbs_up  \\\n",
       "0      Prof. Sagan is a nice, caring man, but he is n...          0   \n",
       "1                             AWESOME PROFESSOR!!!!!!!!!          0   \n",
       "2      Professor Sagan is really good math teacher.  ...          0   \n",
       "3      Excellent professor that was very clear in tea...          0   \n",
       "4      Awesome - made me want to become a Math major ...          0   \n",
       "...                                                  ...        ...   \n",
       "13107  Anning Jing is an absolute abomination of a pr...          0   \n",
       "13108  Took IAH211B for university requirement credit...          0   \n",
       "13109  Extremely vague. Skips around a LOT. Messy sli...          0   \n",
       "13110  This class has no reason for being harder than...          0   \n",
       "13111  This class was absolutely horrid. You could no...          0   \n",
       "\n",
       "       thumbs_down  \n",
       "0                0  \n",
       "1                0  \n",
       "2                0  \n",
       "3                0  \n",
       "4                0  \n",
       "...            ...  \n",
       "13107            0  \n",
       "13108            0  \n",
       "13109            0  \n",
       "13110            0  \n",
       "13111            0  \n",
       "\n",
       "[13112 rows x 8 columns]"
      ]
     },
     "execution_count": 2,
     "metadata": {},
     "output_type": "execute_result"
    }
   ],
   "source": [
    "ratings_csv = pd.read_csv(\"MSU_ratings.csv\")\n",
    "ratings_csv"
   ]
  },
  {
   "cell_type": "code",
   "execution_count": 3,
   "id": "c7daac95",
   "metadata": {},
   "outputs": [
    {
     "data": {
      "text/html": [
       "<div>\n",
       "<style scoped>\n",
       "    .dataframe tbody tr th:only-of-type {\n",
       "        vertical-align: middle;\n",
       "    }\n",
       "\n",
       "    .dataframe tbody tr th {\n",
       "        vertical-align: top;\n",
       "    }\n",
       "\n",
       "    .dataframe thead th {\n",
       "        text-align: right;\n",
       "    }\n",
       "</style>\n",
       "<table border=\"1\" class=\"dataframe\">\n",
       "  <thead>\n",
       "    <tr style=\"text-align: right;\">\n",
       "      <th></th>\n",
       "      <th>prof_id</th>\n",
       "      <th>course</th>\n",
       "      <th>date</th>\n",
       "      <th>quality</th>\n",
       "      <th>difficulty</th>\n",
       "      <th>comments</th>\n",
       "      <th>thumbs_up</th>\n",
       "      <th>thumbs_down</th>\n",
       "    </tr>\n",
       "  </thead>\n",
       "  <tbody>\n",
       "    <tr>\n",
       "      <th>0</th>\n",
       "      <td>790</td>\n",
       "      <td>MTH132</td>\n",
       "      <td>Oct 9th, 2019</td>\n",
       "      <td>3.0</td>\n",
       "      <td>4.0</td>\n",
       "      <td>Prof. Sagan is a nice, caring man, but he is n...</td>\n",
       "      <td>0</td>\n",
       "      <td>0</td>\n",
       "    </tr>\n",
       "    <tr>\n",
       "      <th>1</th>\n",
       "      <td>790</td>\n",
       "      <td>MTH317H</td>\n",
       "      <td>Jan 3rd, 2014</td>\n",
       "      <td>5.0</td>\n",
       "      <td>3.0</td>\n",
       "      <td>AWESOME PROFESSOR!!!!!!!!!</td>\n",
       "      <td>0</td>\n",
       "      <td>0</td>\n",
       "    </tr>\n",
       "    <tr>\n",
       "      <th>2</th>\n",
       "      <td>790</td>\n",
       "      <td>MTH317H</td>\n",
       "      <td>Nov 5th, 2013</td>\n",
       "      <td>5.0</td>\n",
       "      <td>4.0</td>\n",
       "      <td>Professor Sagan is really good math teacher.  ...</td>\n",
       "      <td>0</td>\n",
       "      <td>0</td>\n",
       "    </tr>\n",
       "    <tr>\n",
       "      <th>3</th>\n",
       "      <td>790</td>\n",
       "      <td>MTH132</td>\n",
       "      <td>Jan 11th, 2009</td>\n",
       "      <td>5.0</td>\n",
       "      <td>2.0</td>\n",
       "      <td>Excellent professor that was very clear in tea...</td>\n",
       "      <td>0</td>\n",
       "      <td>0</td>\n",
       "    </tr>\n",
       "    <tr>\n",
       "      <th>4</th>\n",
       "      <td>790</td>\n",
       "      <td>MATH254H</td>\n",
       "      <td>Aug 10th, 2005</td>\n",
       "      <td>4.5</td>\n",
       "      <td>3.0</td>\n",
       "      <td>Awesome - made me want to become a Math major ...</td>\n",
       "      <td>0</td>\n",
       "      <td>0</td>\n",
       "    </tr>\n",
       "    <tr>\n",
       "      <th>...</th>\n",
       "      <td>...</td>\n",
       "      <td>...</td>\n",
       "      <td>...</td>\n",
       "      <td>...</td>\n",
       "      <td>...</td>\n",
       "      <td>...</td>\n",
       "      <td>...</td>\n",
       "      <td>...</td>\n",
       "    </tr>\n",
       "    <tr>\n",
       "      <th>13107</th>\n",
       "      <td>2650948</td>\n",
       "      <td>IAH211B</td>\n",
       "      <td>Apr 25th, 2022</td>\n",
       "      <td>1.0</td>\n",
       "      <td>5.0</td>\n",
       "      <td>Anning Jing is an absolute abomination of a pr...</td>\n",
       "      <td>0</td>\n",
       "      <td>0</td>\n",
       "    </tr>\n",
       "    <tr>\n",
       "      <th>13108</th>\n",
       "      <td>2650948</td>\n",
       "      <td>IAH211B</td>\n",
       "      <td>Apr 25th, 2022</td>\n",
       "      <td>1.0</td>\n",
       "      <td>5.0</td>\n",
       "      <td>Took IAH211B for university requirement credit...</td>\n",
       "      <td>0</td>\n",
       "      <td>0</td>\n",
       "    </tr>\n",
       "    <tr>\n",
       "      <th>13109</th>\n",
       "      <td>2650948</td>\n",
       "      <td>HA260</td>\n",
       "      <td>Feb 2nd, 2022</td>\n",
       "      <td>1.0</td>\n",
       "      <td>5.0</td>\n",
       "      <td>Extremely vague. Skips around a LOT. Messy sli...</td>\n",
       "      <td>0</td>\n",
       "      <td>0</td>\n",
       "    </tr>\n",
       "    <tr>\n",
       "      <th>13110</th>\n",
       "      <td>2650948</td>\n",
       "      <td>IAH211B</td>\n",
       "      <td>Apr 27th, 2021</td>\n",
       "      <td>1.0</td>\n",
       "      <td>5.0</td>\n",
       "      <td>This class has no reason for being harder than...</td>\n",
       "      <td>0</td>\n",
       "      <td>0</td>\n",
       "    </tr>\n",
       "    <tr>\n",
       "      <th>13111</th>\n",
       "      <td>2650948</td>\n",
       "      <td>IAH211B</td>\n",
       "      <td>Dec 9th, 2020</td>\n",
       "      <td>1.0</td>\n",
       "      <td>4.0</td>\n",
       "      <td>This class was absolutely horrid. You could no...</td>\n",
       "      <td>0</td>\n",
       "      <td>0</td>\n",
       "    </tr>\n",
       "  </tbody>\n",
       "</table>\n",
       "<p>12797 rows × 8 columns</p>\n",
       "</div>"
      ],
      "text/plain": [
       "       prof_id    course            date  quality  difficulty  \\\n",
       "0          790    MTH132   Oct 9th, 2019      3.0         4.0   \n",
       "1          790   MTH317H   Jan 3rd, 2014      5.0         3.0   \n",
       "2          790   MTH317H   Nov 5th, 2013      5.0         4.0   \n",
       "3          790    MTH132  Jan 11th, 2009      5.0         2.0   \n",
       "4          790  MATH254H  Aug 10th, 2005      4.5         3.0   \n",
       "...        ...       ...             ...      ...         ...   \n",
       "13107  2650948   IAH211B  Apr 25th, 2022      1.0         5.0   \n",
       "13108  2650948   IAH211B  Apr 25th, 2022      1.0         5.0   \n",
       "13109  2650948     HA260   Feb 2nd, 2022      1.0         5.0   \n",
       "13110  2650948   IAH211B  Apr 27th, 2021      1.0         5.0   \n",
       "13111  2650948   IAH211B   Dec 9th, 2020      1.0         4.0   \n",
       "\n",
       "                                                comments  thumbs_up  \\\n",
       "0      Prof. Sagan is a nice, caring man, but he is n...          0   \n",
       "1                             AWESOME PROFESSOR!!!!!!!!!          0   \n",
       "2      Professor Sagan is really good math teacher.  ...          0   \n",
       "3      Excellent professor that was very clear in tea...          0   \n",
       "4      Awesome - made me want to become a Math major ...          0   \n",
       "...                                                  ...        ...   \n",
       "13107  Anning Jing is an absolute abomination of a pr...          0   \n",
       "13108  Took IAH211B for university requirement credit...          0   \n",
       "13109  Extremely vague. Skips around a LOT. Messy sli...          0   \n",
       "13110  This class has no reason for being harder than...          0   \n",
       "13111  This class was absolutely horrid. You could no...          0   \n",
       "\n",
       "       thumbs_down  \n",
       "0                0  \n",
       "1                0  \n",
       "2                0  \n",
       "3                0  \n",
       "4                0  \n",
       "...            ...  \n",
       "13107            0  \n",
       "13108            0  \n",
       "13109            0  \n",
       "13110            0  \n",
       "13111            0  \n",
       "\n",
       "[12797 rows x 8 columns]"
      ]
     },
     "execution_count": 3,
     "metadata": {},
     "output_type": "execute_result"
    }
   ],
   "source": [
    "# Drop any ratings with no comments \n",
    "ratings_csv = ratings_csv.drop(ratings_csv[ratings_csv[\"comments\"] == \"No Comments\"].index)\n",
    "ratings_csv"
   ]
  },
  {
   "cell_type": "code",
   "execution_count": 4,
   "id": "5822f31e",
   "metadata": {},
   "outputs": [],
   "source": [
    "X = ratings_csv[\"comments\"]\n",
    "# 1 for positive ratings, 0 for negative\n",
    "y = ratings_csv[\"quality\"]>=3"
   ]
  },
  {
   "cell_type": "markdown",
   "id": "812d1376",
   "metadata": {},
   "source": [
    "## Data Visualization"
   ]
  },
  {
   "cell_type": "code",
   "execution_count": 5,
   "id": "dc427b44",
   "metadata": {},
   "outputs": [],
   "source": [
    "import numpy as np\n",
    "import matplotlib.pyplot as plt"
   ]
  },
  {
   "cell_type": "code",
   "execution_count": 6,
   "id": "98fd0a52",
   "metadata": {},
   "outputs": [],
   "source": [
    "#https://medium.com/@cristhianboujon/how-to-list-the-most-common-words-from-text-corpus-using-scikit-learn-dad4d0cab41d\n",
    "    \n",
    "def get_top_n_words(text, n, stop_words = False):\n",
    "    if stop_words:\n",
    "        vectorizer = CountVectorizer(stop_words=\"english\")\n",
    "    else:\n",
    "        vectorizer = CountVectorizer()\n",
    "\n",
    "    X = vectorizer.fit_transform(text)\n",
    "    \n",
    "    # Get the feature names (words)\n",
    "    feature_names = vectorizer.get_feature_names()\n",
    "\n",
    "    # Calculate the word frequencies\n",
    "    word_frequencies = X.toarray().sum(axis=0)\n",
    "    \n",
    "    # Sort the words by frequency in descending order\n",
    "    sorted_words = sorted(zip(feature_names, word_frequencies), key=lambda x: x[1], reverse=True)\n",
    "\n",
    "    # Get the top n words\n",
    "    top_n_words = np.array(sorted_words[:n])\n",
    "    return top_n_words"
   ]
  },
  {
   "cell_type": "code",
   "execution_count": 7,
   "id": "aff286bb",
   "metadata": {},
   "outputs": [
    {
     "name": "stderr",
     "output_type": "stream",
     "text": [
      "/home/ledan3/.local/lib/python3.8/site-packages/sklearn/utils/deprecation.py:87: FutureWarning: Function get_feature_names is deprecated; get_feature_names is deprecated in 1.0 and will be removed in 1.2. Please use get_feature_names_out instead.\n",
      "  warnings.warn(msg, category=FutureWarning)\n"
     ]
    }
   ],
   "source": [
    "top_15_all = get_top_n_words(X, 15)\n",
    "top_15_all_stop = get_top_n_words(X, 15, stop_words=True)"
   ]
  },
  {
   "cell_type": "code",
   "execution_count": 8,
   "id": "da4ca757",
   "metadata": {},
   "outputs": [
    {
     "data": {
      "text/plain": [
       "Text(0, 0.5, 'Count')"
      ]
     },
     "execution_count": 8,
     "metadata": {},
     "output_type": "execute_result"
    },
    {
     "data": {
      "image/png": "[encoded data removed]",
      "text/plain": [
       "<Figure size 1080x288 with 2 Axes>"
      ]
     },
     "metadata": {
      "needs_background": "light"
     },
     "output_type": "display_data"
    }
   ],
   "source": [
    "plt.figure(figsize=(15, 4)) \n",
    "plt.subplot(1,2,1)\n",
    "plt.title(\"Top 15 Words\")\n",
    "plt.bar(top_15_all[:,0], top_15_all[:,1].astype('float64'))\n",
    "plt.xticks(rotation=70)\n",
    "plt.xlabel(\"Word\")\n",
    "plt.ylabel(\"Count\")\n",
    "\n",
    "\n",
    "plt.subplot(1,2,2)\n",
    "plt.title(\"Top 15 Words Without Stop Words\")\n",
    "plt.bar(top_15_all_stop[:,0], top_15_all_stop[:,1].astype('float64'))\n",
    "plt.xticks(rotation=70)\n",
    "plt.xlabel(\"Word\")\n",
    "plt.ylabel(\"Count\")"
   ]
  },
  {
   "cell_type": "code",
   "execution_count": 9,
   "id": "3519ce5f",
   "metadata": {},
   "outputs": [],
   "source": [
    "# positive ratings \n",
    "top_15_pos = get_top_n_words(X[y], 15)\n",
    "top_15_pos_stop = get_top_n_words(X[y], 15, stop_words=True)"
   ]
  },
  {
   "cell_type": "code",
   "execution_count": 10,
   "id": "4819927a",
   "metadata": {},
   "outputs": [],
   "source": [
    "# negative ratings \n",
    "top_15_neg = get_top_n_words(X[~y], 15)\n",
    "top_15_neg_stop = get_top_n_words(X[~y], 15, stop_words=True)"
   ]
  },
  {
   "cell_type": "code",
   "execution_count": 11,
   "id": "e22fb3d9",
   "metadata": {},
   "outputs": [
    {
     "data": {
      "text/plain": [
       "Text(0, 0.5, 'Count')"
      ]
     },
     "execution_count": 11,
     "metadata": {},
     "output_type": "execute_result"
    },
    {
     "data": {
      "image/png": "[encoded data removed]",
      "text/plain": [
       "<Figure size 1080x288 with 2 Axes>"
      ]
     },
     "metadata": {
      "needs_background": "light"
     },
     "output_type": "display_data"
    }
   ],
   "source": [
    "plt.figure(figsize=(15, 4)) \n",
    "plt.tight_layout()\n",
    "plt.subplot(1,2,1)\n",
    "plt.title(\"Positive Top 15 Words\")\n",
    "plt.bar(top_15_pos[:,0], top_15_pos[:,1].astype('float64'), color=\"g\")\n",
    "plt.xticks(rotation=70)\n",
    "plt.xlabel(\"Word\")\n",
    "plt.ylabel(\"Count\")\n",
    "\n",
    "plt.subplot(1,2,2)\n",
    "plt.title(\"Positive Top 15 Words Without Stop Words\")\n",
    "plt.bar(top_15_pos_stop[:,0], top_15_pos_stop[:,1].astype('float64'), color=\"g\")\n",
    "plt.xticks(rotation=70)\n",
    "plt.xlabel(\"Word\")\n",
    "plt.ylabel(\"Count\")\n"
   ]
  },
  {
   "cell_type": "code",
   "execution_count": 12,
   "id": "c0e077c1",
   "metadata": {},
   "outputs": [
    {
     "data": {
      "text/plain": [
       "Text(0, 0.5, 'Count')"
      ]
     },
     "execution_count": 12,
     "metadata": {},
     "output_type": "execute_result"
    },
    {
     "data": {
      "image/png": "[encoded data removed]",
      "text/plain": [
       "<Figure size 1080x288 with 2 Axes>"
      ]
     },
     "metadata": {
      "needs_background": "light"
     },
     "output_type": "display_data"
    }
   ],
   "source": [
    "plt.figure(figsize=(15, 4)) \n",
    "\n",
    "plt.subplot(1,2,1)\n",
    "plt.title(\"Negative Top 15 Words\")\n",
    "plt.bar(top_15_neg[:,0], top_15_neg[:,1].astype('float64'), color=\"r\")\n",
    "plt.xticks(rotation=70)\n",
    "plt.xlabel(\"Word\")\n",
    "plt.ylabel(\"Count\")\n",
    "\n",
    "plt.subplot(1,2,2)\n",
    "plt.title(\"Negative Top 15 Words Without Stop Words\")\n",
    "plt.bar(top_15_neg_stop[:,0], top_15_neg_stop[:,1].astype('float64'), color=\"r\")\n",
    "plt.xticks(rotation=70)\n",
    "plt.xlabel(\"Word\")\n",
    "plt.ylabel(\"Count\")"
   ]
  },
  {
   "cell_type": "markdown",
   "id": "bcca57b8",
   "metadata": {},
   "source": [
    "## Train Test Split"
   ]
  },
  {
   "cell_type": "code",
   "execution_count": 13,
   "id": "d5b3716d",
   "metadata": {},
   "outputs": [],
   "source": [
    "# https://stackoverflow.com/questions/54797508/how-to-generate-a-train-test-split-based-on-a-group-id\n",
    "# Train test split 70/30 based on professor id \n",
    "splitter = GroupShuffleSplit(test_size=.30, n_splits=2, random_state = 20)\n",
    "split = splitter.split(ratings_csv, groups=ratings_csv['prof_id'])\n",
    "train_idx, test_idx = next(split)\n",
    "X_train, X_test, y_train, y_test = X.iloc[train_idx], X.iloc[test_idx], y.iloc[train_idx], y.iloc[test_idx]"
   ]
  },
  {
   "cell_type": "code",
   "execution_count": 14,
   "id": "d3a197ed",
   "metadata": {},
   "outputs": [
    {
     "name": "stdout",
     "output_type": "stream",
     "text": [
      "Total Number of unique prof IDs: 1662\n",
      "Number of unique prof IDs in train data: 1163\n",
      "Number of unique prof IDs in test data: 499\n"
     ]
    }
   ],
   "source": [
    "# Check that split was done properly \n",
    "print(f'Total Number of unique prof IDs: {len(pd.unique(ratings_csv[\"prof_id\"]))}')\n",
    "print(f'Number of unique prof IDs in train data: {len(pd.unique(ratings_csv.iloc[train_idx][\"prof_id\"]))}')\n",
    "print(f'Number of unique prof IDs in test data: {len(pd.unique(ratings_csv.iloc[test_idx][\"prof_id\"]))}')"
   ]
  },
  {
   "cell_type": "code",
   "execution_count": 15,
   "id": "cb10ef80",
   "metadata": {},
   "outputs": [
    {
     "name": "stdout",
     "output_type": "stream",
     "text": [
      "True split (based on number of ratings): 69.61006485895132% Train, 30.389935141048685% Test\n"
     ]
    }
   ],
   "source": [
    "print(f\"True split (based on number of ratings): {(len(X_train)/len(X))*100}% Train, {(len(X_test)/len(X))*100}% Test\")"
   ]
  },
  {
   "cell_type": "markdown",
   "id": "d0b1f7d2",
   "metadata": {},
   "source": [
    "## Preprocessing "
   ]
  },
  {
   "cell_type": "code",
   "execution_count": 16,
   "id": "a21924b9",
   "metadata": {},
   "outputs": [],
   "source": [
    "vectorizer = CountVectorizer()"
   ]
  },
  {
   "cell_type": "code",
   "execution_count": 17,
   "id": "4ff9744b",
   "metadata": {},
   "outputs": [],
   "source": [
    "X_train_vect = vectorizer.fit_transform(X_train)"
   ]
  },
  {
   "cell_type": "code",
   "execution_count": 18,
   "id": "9c6580a2",
   "metadata": {},
   "outputs": [],
   "source": [
    "X_test_vect = vectorizer.transform(X_test)"
   ]
  },
  {
   "cell_type": "markdown",
   "id": "7b1a326c",
   "metadata": {},
   "source": [
    "## SVM"
   ]
  },
  {
   "cell_type": "code",
   "execution_count": 19,
   "id": "8d55b0d9",
   "metadata": {},
   "outputs": [],
   "source": [
    "svc = SVC()"
   ]
  },
  {
   "cell_type": "code",
   "execution_count": 20,
   "id": "7a085589",
   "metadata": {},
   "outputs": [
    {
     "data": {
      "text/html": [
       "<style>#sk-container-id-1 {color: black;background-color: white;}#sk-container-id-1 pre{padding: 0;}#sk-container-id-1 div.sk-toggleable {background-color: white;}#sk-container-id-1 label.sk-toggleable__label {cursor: pointer;display: block;width: 100%;margin-bottom: 0;padding: 0.3em;box-sizing: border-box;text-align: center;}#sk-container-id-1 label.sk-toggleable__label-arrow:before {content: \"▸\";float: left;margin-right: 0.25em;color: #696969;}#sk-container-id-1 label.sk-toggleable__label-arrow:hover:before {color: black;}#sk-container-id-1 div.sk-estimator:hover label.sk-toggleable__label-arrow:before {color: black;}#sk-container-id-1 div.sk-toggleable__content {max-height: 0;max-width: 0;overflow: hidden;text-align: left;background-color: #f0f8ff;}#sk-container-id-1 div.sk-toggleable__content pre {margin: 0.2em;color: black;border-radius: 0.25em;background-color: #f0f8ff;}#sk-container-id-1 input.sk-toggleable__control:checked~div.sk-toggleable__content {max-height: 200px;max-width: 100%;overflow: auto;}#sk-container-id-1 input.sk-toggleable__control:checked~label.sk-toggleable__label-arrow:before {content: \"▾\";}#sk-container-id-1 div.sk-estimator input.sk-toggleable__control:checked~label.sk-toggleable__label {background-color: #d4ebff;}#sk-container-id-1 div.sk-label input.sk-toggleable__control:checked~label.sk-toggleable__label {background-color: #d4ebff;}#sk-container-id-1 input.sk-hidden--visually {border: 0;clip: rect(1px 1px 1px 1px);clip: rect(1px, 1px, 1px, 1px);height: 1px;margin: -1px;overflow: hidden;padding: 0;position: absolute;width: 1px;}#sk-container-id-1 div.sk-estimator {font-family: monospace;background-color: #f0f8ff;border: 1px dotted black;border-radius: 0.25em;box-sizing: border-box;margin-bottom: 0.5em;}#sk-container-id-1 div.sk-estimator:hover {background-color: #d4ebff;}#sk-container-id-1 div.sk-parallel-item::after {content: \"\";width: 100%;border-bottom: 1px solid gray;flex-grow: 1;}#sk-container-id-1 div.sk-label:hover label.sk-toggleable__label {background-color: #d4ebff;}#sk-container-id-1 div.sk-serial::before {content: \"\";position: absolute;border-left: 1px solid gray;box-sizing: border-box;top: 0;bottom: 0;left: 50%;z-index: 0;}#sk-container-id-1 div.sk-serial {display: flex;flex-direction: column;align-items: center;background-color: white;padding-right: 0.2em;padding-left: 0.2em;position: relative;}#sk-container-id-1 div.sk-item {position: relative;z-index: 1;}#sk-container-id-1 div.sk-parallel {display: flex;align-items: stretch;justify-content: center;background-color: white;position: relative;}#sk-container-id-1 div.sk-item::before, #sk-container-id-1 div.sk-parallel-item::before {content: \"\";position: absolute;border-left: 1px solid gray;box-sizing: border-box;top: 0;bottom: 0;left: 50%;z-index: -1;}#sk-container-id-1 div.sk-parallel-item {display: flex;flex-direction: column;z-index: 1;position: relative;background-color: white;}#sk-container-id-1 div.sk-parallel-item:first-child::after {align-self: flex-end;width: 50%;}#sk-container-id-1 div.sk-parallel-item:last-child::after {align-self: flex-start;width: 50%;}#sk-container-id-1 div.sk-parallel-item:only-child::after {width: 0;}#sk-container-id-1 div.sk-dashed-wrapped {border: 1px dashed gray;margin: 0 0.4em 0.5em 0.4em;box-sizing: border-box;padding-bottom: 0.4em;background-color: white;}#sk-container-id-1 div.sk-label label {font-family: monospace;font-weight: bold;display: inline-block;line-height: 1.2em;}#sk-container-id-1 div.sk-label-container {text-align: center;}#sk-container-id-1 div.sk-container {/* jupyter's `normalize.less` sets `[hidden] { display: none; }` but bootstrap.min.css set `[hidden] { display: none !important; }` so we also need the `!important` here to be able to override the default hidden behavior on the sphinx rendered scikit-learn.org. See: https://github.com/scikit-learn/scikit-learn/issues/21755 */display: inline-block !important;position: relative;}#sk-container-id-1 div.sk-text-repr-fallback {display: none;}</style><div id=\"sk-container-id-1\" class=\"sk-top-container\"><div class=\"sk-text-repr-fallback\"><pre>SVC()</pre><b>In a Jupyter environment, please rerun this cell to show the HTML representation or trust the notebook. <br />On GitHub, the HTML representation is unable to render, please try loading this page with nbviewer.org.</b></div><div class=\"sk-container\" hidden><div class=\"sk-item\"><div class=\"sk-estimator sk-toggleable\"><input class=\"sk-toggleable__control sk-hidden--visually\" id=\"sk-estimator-id-1\" type=\"checkbox\" checked><label for=\"sk-estimator-id-1\" class=\"sk-toggleable__label sk-toggleable__label-arrow\">SVC</label><div class=\"sk-toggleable__content\"><pre>SVC()</pre></div></div></div></div></div>"
      ],
      "text/plain": [
       "SVC()"
      ]
     },
     "execution_count": 20,
     "metadata": {},
     "output_type": "execute_result"
    }
   ],
   "source": [
    "svc.fit(X_train_vect,y_train)"
   ]
  },
  {
   "cell_type": "code",
   "execution_count": 21,
   "id": "cc010a5a",
   "metadata": {},
   "outputs": [],
   "source": [
    "y_test_pred = svc.predict(X_test_vect)"
   ]
  },
  {
   "cell_type": "code",
   "execution_count": 22,
   "id": "a0f70ccd",
   "metadata": {},
   "outputs": [],
   "source": [
    "from sklearn.metrics import accuracy_score, precision_score, recall_score, f1_score"
   ]
  },
  {
   "cell_type": "code",
   "execution_count": 23,
   "id": "8b0d7dd9",
   "metadata": {},
   "outputs": [
    {
     "name": "stdout",
     "output_type": "stream",
     "text": [
      "Accuracy Score: 0.8778606325533557\n",
      "Precision Score: 0.8888101983002833\n",
      "Recall Score: 0.9397229502059153\n",
      "F1 Score: 0.913557779799818\n"
     ]
    }
   ],
   "source": [
    "print(f'Accuracy Score: {accuracy_score(y_test, y_test_pred)}')\n",
    "print(f'Precision Score: {precision_score(y_test, y_test_pred)}')\n",
    "print(f'Recall Score: {recall_score(y_test, y_test_pred)}')\n",
    "print(f'F1 Score: {f1_score(y_test, y_test_pred)}')"
   ]
  },
  {
   "cell_type": "code",
   "execution_count": 24,
   "id": "7515c5f0",
   "metadata": {},
   "outputs": [
    {
     "data": {
      "text/plain": [
       "<sklearn.metrics._plot.confusion_matrix.ConfusionMatrixDisplay at 0x7fd561fc6b20>"
      ]
     },
     "execution_count": 24,
     "metadata": {},
     "output_type": "execute_result"
    },
    {
     "data": {
      "image/png": "[encoded data removed]",
      "text/plain": [
       "<Figure size 432x288 with 2 Axes>"
      ]
     },
     "metadata": {
      "needs_background": "light"
     },
     "output_type": "display_data"
    }
   ],
   "source": [
    "from sklearn.metrics import confusion_matrix, ConfusionMatrixDisplay\n",
    "\n",
    "cm = confusion_matrix(y_test, y_test_pred)\n",
    "disp = ConfusionMatrixDisplay(confusion_matrix=cm, display_labels=[\"Negative\", \"Positive\"])\n",
    "disp.plot()"
   ]
  }
 ],
 "metadata": {
  "kernelspec": {
   "display_name": "Python 3.8",
   "language": "python",
   "name": "python3"
  },
  "language_info": {
   "codemirror_mode": {
    "name": "ipython",
    "version": 3
   },
   "file_extension": ".py",
   "mimetype": "text/x-python",
   "name": "python",
   "nbconvert_exporter": "python",
   "pygments_lexer": "ipython3",
   "version": "3.8.8"
  }
 },
 "nbformat": 4,
 "nbformat_minor": 5
}

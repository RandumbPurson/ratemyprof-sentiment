{
 "cells": [
  {
   "cell_type": "markdown",
   "id": "90198ae9-2c45-4602-a2a7-1d593340ed92",
   "metadata": {},
   "source": [
    "I implemented a few utils for scraping in the `RMPscraper.py` and `SchoolScraper.py` files. The code below scrapes Rate My Professors's MSU professor search page, collecting basic info about each of the professors:\n",
    "- name\n",
    "- prof_id: the numeric id that can be used to access their RMP page\n",
    "- school\n",
    "- department\n",
    "- num_ratings: the number of ratings they have received\n",
    "\n",
    "This data is then saved to a CSV file (called \"test.csv\" right now). "
   ]
  },
  {
   "cell_type": "code",
   "execution_count": 1,
   "id": "9f870297-9622-4f27-8bb9-c393975a186a",
   "metadata": {},
   "outputs": [],
   "source": [
    "from RMPscraper import RMPscraper\n",
    "from SchoolScraper import get_card_info, save_card_info"
   ]
  },
  {
   "cell_type": "code",
   "execution_count": 2,
   "id": "4db5c541-ca12-44d4-8032-dd4fb626d6cd",
   "metadata": {},
   "outputs": [
    {
     "name": "stderr",
     "output_type": "stream",
     "text": [
      "/bin/sh: line 1: google-chrome: command not found\n",
      "/bin/sh: line 1: google-chrome: command not found\n",
      "/home/emmaf/School/Courses/CSE-404/Project/ratemyprof-sentiment/SchoolScraper.py:17: GuessedAtParserWarning: No parser was explicitly specified, so I'm using the best available HTML parser for this system (\"lxml\"). This usually isn't a problem, but if you run this code on another system, or in a different virtual environment, it may use a different parser and behave differently.\n",
      "\n",
      "The code that caused this warning is on line 17 of the file /home/emmaf/School/Courses/CSE-404/Project/ratemyprof-sentiment/SchoolScraper.py. To get rid of this warning, pass the additional argument 'features=\"lxml\"' to the BeautifulSoup constructor.\n",
      "\n",
      "  soup = BeautifulSoup(page_source)\n"
     ]
    }
   ],
   "source": [
    "school_id = 601 # MSU's school id\n",
    "\n",
    "scraper = RMPscraper(base=f\"https://www.ratemyprofessors.com/search/professors/{school_id}?q=*\")\n",
    "scraper.find_click(\".CCPAModal__StyledCloseButton-sc-10x9kq-2\") # Closes cookies popup\n",
    "scraper.expand_all(max_iters=20)\n",
    "page = scraper.source()\n",
    "scraper.driver.quit()\n",
    "\n",
    "cards = get_card_info(page)\n",
    "save_card_info(cards, \"test\")"
   ]
  },
  {
   "cell_type": "markdown",
   "id": "93ff6638-536e-4c73-94f6-e725e0f497ac",
   "metadata": {},
   "source": [
    "## TODO\n",
    "- [ ] Write comment scraper for page given professor ID\n",
    "- [ ] Gather professor IDs for MSU\n",
    "- [ ] Gather comments on professors at MSU\n",
    "- [ ] Choose other schools to get data from\n",
    "- [ ] Repeat web scraping procedure ad infinitum"
   ]
  },
  {
   "cell_type": "markdown",
   "id": "1075b103-5e84-496f-85ba-6bebfdcccee2",
   "metadata": {},
   "source": []
  }
 ],
 "metadata": {
  "kernelspec": {
   "display_name": "Python 3 (ipykernel)",
   "language": "python",
   "name": "python3"
  },
  "language_info": {
   "codemirror_mode": {
    "name": "ipython",
    "version": 3
   },
   "file_extension": ".py",
   "mimetype": "text/x-python",
   "name": "python",
   "nbconvert_exporter": "python",
   "pygments_lexer": "ipython3",
   "version": "3.11.5"
  }
 },
 "nbformat": 4,
 "nbformat_minor": 5
}

{
 "cells": [
  {
   "cell_type": "markdown",
   "id": "90198ae9-2c45-4602-a2a7-1d593340ed92",
   "metadata": {},
   "source": [
    "I implemented a few utils for scraping in the `RMPscraper.py` and `SchoolScraper.py` files. The code below scrapes Rate My Professors's MSU professor search page, collecting basic info about each of the professors:\n",
    "- name\n",
    "- prof_id: the numeric id that can be used to access their RMP page\n",
    "- school\n",
    "- department\n",
    "- num_ratings: the number of ratings they have received\n",
    "\n",
    "This data is then saved to a CSV file (called \"test.csv\" right now). "
   ]
  },
  {
   "cell_type": "code",
   "execution_count": 1,
   "id": "9f870297-9622-4f27-8bb9-c393975a186a",
   "metadata": {},
   "outputs": [],
   "source": [
    "from RMPscraper import RMPscraper\n",
    "from SchoolScraper import get_card_info, save_card_info"
   ]
  },
  {
   "cell_type": "code",
   "execution_count": 2,
   "id": "4db5c541-ca12-44d4-8032-dd4fb626d6cd",
   "metadata": {},
   "outputs": [],
   "source": [
    "school_id = 601 # MSU's school id\n",
    "\n",
    "scraper = RMPscraper(base=f\"https://www.ratemyprofessors.com/search/professors/{school_id}?q=*\")\n",
    "scraper.find_click(\".CCPAModal__StyledCloseButton-sc-10x9kq-2\") # Closes cookies popup\n",
    "scraper.expand_all(max_iters=20)\n",
    "page = scraper.source()\n",
    "scraper.driver.quit()\n",
    "\n",
    "cards = get_card_info(page)\n",
    "save_card_info(cards, \"test\")"
   ]
  },
  {
   "cell_type": "markdown",
   "id": "93ff6638-536e-4c73-94f6-e725e0f497ac",
   "metadata": {},
   "source": [
    "## TODO\n",
    "- [ ] Write comment scraper for page given professor ID\n",
    "    - [x] Implement\n",
    "    - [ ] Fix scrolling behavior\n",
    "- [ ] Scrape professor IDs for MSU\n",
    "- [ ] Scrape comments on professors at MSU\n",
    "- [ ] Choose other schools to get data from\n",
    "- [ ] Repeat web scraping procedure ad infinitum"
   ]
  },
  {
   "cell_type": "code",
   "execution_count": 59,
   "id": "7f9f1e75-eab0-47a4-88fe-36529fc8598b",
   "metadata": {},
   "outputs": [],
   "source": [
    "from ProfScraper import get_ratings, save_ratings"
   ]
  },
  {
   "cell_type": "code",
   "execution_count": 42,
   "id": "fbee5614-c9b1-465a-8435-3756c2517589",
   "metadata": {},
   "outputs": [
    {
     "name": "stderr",
     "output_type": "stream",
     "text": [
      "/bin/sh: line 1: google-chrome: command not found\n",
      "/bin/sh: line 1: google-chrome: command not found\n"
     ]
    }
   ],
   "source": [
    "prof_id = 4183 # random school id\n",
    "\n",
    "scraper = RMPscraper(base=f\"https://www.ratemyprofessors.com/professor/{prof_id}\", headless=False)\n",
    "scraper.find_click(\".CCPAModal__StyledCloseButton-sc-10x9kq-2\") # Closes cookies popup\n",
    "scraper.expand_all(max_iters=5)\n",
    "page = scraper.source()\n",
    "scraper.driver.quit()\n",
    "\n",
    "ratings = get_ratings(page)\n",
    "save_ratings(ratings, \"test_ratings\")"
   ]
  },
  {
   "cell_type": "code",
   "execution_count": 56,
   "id": "3bd3ee14-e882-426b-8817-334aabc65ae5",
   "metadata": {},
   "outputs": [],
   "source": []
  }
 ],
 "metadata": {
  "kernelspec": {
   "display_name": "Python 3 (ipykernel)",
   "language": "python",
   "name": "python3"
  },
  "language_info": {
   "codemirror_mode": {
    "name": "ipython",
    "version": 3
   },
   "file_extension": ".py",
   "mimetype": "text/x-python",
   "name": "python",
   "nbconvert_exporter": "python",
   "pygments_lexer": "ipython3",
   "version": "3.11.5"
  }
 },
 "nbformat": 4,
 "nbformat_minor": 5
}
